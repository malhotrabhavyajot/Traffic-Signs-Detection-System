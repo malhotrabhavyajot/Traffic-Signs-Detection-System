{
 "cells": [
  {
   "cell_type": "code",
   "execution_count": 14,
   "metadata": {},
   "outputs": [
    {
     "name": "stderr",
     "output_type": "stream",
     "text": [
      "C:\\Users\\asus\\AppData\\Roaming\\Python\\Python37\\site-packages\\tensorflow\\python\\client\\session.py:1751: UserWarning: An interactive session is already active. This can cause out-of-memory errors in some cases. You must explicitly call `InteractiveSession.close()` to release resources held by the other session(s).\n",
      "  warnings.warn('An interactive session is already active. This can '\n"
     ]
    }
   ],
   "source": [
    "#Importing important libraries\n",
    "import numpy as np \n",
    "import pandas as pd \n",
    "import matplotlib.pyplot as plt\n",
    "import cv2\n",
    "import tensorflow as tf\n",
    "from PIL import Image\n",
    "import os\n",
    "from sklearn.model_selection import train_test_split\n",
    "from keras.utils import to_categorical\n",
    "from keras.models import Sequential, load_model\n",
    "from keras.layers import Conv2D, MaxPool2D, Dense, Flatten, Dropout\n",
    "from tensorflow.keras import datasets, layers, models\n",
    "\n",
    "data = []\n",
    "labels = []\n",
    "classes = 43\n",
    "cur_path = os.getcwd()\n",
    "\n",
    "from tensorflow.compat.v1 import InteractiveSession\n",
    "from tensorflow.compat.v1 import ConfigProto\n",
    "config = ConfigProto()\n",
    "config.gpu_options.allow_growth = True\n",
    "session = InteractiveSession(config=config)"
   ]
  },
  {
   "cell_type": "code",
   "execution_count": 15,
   "metadata": {},
   "outputs": [],
   "source": [
    "#Retrieving the images and their labels \n",
    "for i in range(classes):\n",
    "    path = os.path.join(cur_path,'train',str(i))\n",
    "    images = os.listdir(path)\n",
    "    for a in images:\n",
    "        try:\n",
    "            image = Image.open(path + '\\\\'+ a)\n",
    "            image = image.resize((30,30))\n",
    "            image = np.array(image)\n",
    "            data.append(image)\n",
    "            labels.append(i)\n",
    "        except:\n",
    "            print(\"Error loading image\")"
   ]
  },
  {
   "cell_type": "code",
   "execution_count": 16,
   "metadata": {},
   "outputs": [
    {
     "name": "stdout",
     "output_type": "stream",
     "text": [
      "(39209, 30, 30, 3) (39209,)\n"
     ]
    }
   ],
   "source": [
    "#Converting lists into numpy arrays\\\n",
    "data = np.array(data)\n",
    "labels = np.array(labels)\n",
    "print(data.shape, labels.shape)"
   ]
  },
  {
   "cell_type": "code",
   "execution_count": 17,
   "metadata": {},
   "outputs": [
    {
     "name": "stdout",
     "output_type": "stream",
     "text": [
      "(31367, 30, 30, 3) (7842, 30, 30, 3) (31367,) (7842,)\n"
     ]
    }
   ],
   "source": [
    "#Splitting training and testing dataset\n",
    "X_train, X_test, y_train, y_test = train_test_split(data, labels, test_size=0.2, random_state=42)\n",
    "print(X_train.shape, X_test.shape, y_train.shape, y_test.shape)"
   ]
  },
  {
   "cell_type": "code",
   "execution_count": 18,
   "metadata": {},
   "outputs": [],
   "source": [
    "#Converting the labels into one hot encoding\n",
    "y_train = to_categorical(y_train, 43)\n",
    "y_test = to_categorical(y_test, 43)\n"
   ]
  },
  {
   "cell_type": "code",
   "execution_count": 19,
   "metadata": {},
   "outputs": [],
   "source": [
    "#Building the model\n",
    "#Creating a convolutional base\n",
    "\n",
    "model = Sequential()\n",
    "model.add(layers.Conv2D(32, (3, 3), activation='relu', input_shape=X_train.shape[1:]))\n",
    "model.add(layers.MaxPooling2D((2, 2), strides=None))   # Strides=None means that strides are simmilar to our pool that is 2x2. So stride=2.\n",
    "model.add(layers.Conv2D(64, (3, 3), activation='relu'))\n",
    "model.add(layers.MaxPooling2D((2, 2), strides=None))   # Strides=None means that strides are simmilar to our pool that is 2x2. So stride=2.\n",
    "model.add(layers.Conv2D(64, (3, 3), activation='relu'))"
   ]
  },
  {
   "cell_type": "code",
   "execution_count": 20,
   "metadata": {},
   "outputs": [],
   "source": [
    "#Adding a Dense layers on top\n",
    "model.add(Flatten())\n",
    "model.add(Dense(256, activation='relu'))\n",
    "model.add(Dense(43, activation='softmax'))"
   ]
  },
  {
   "cell_type": "code",
   "execution_count": 21,
   "metadata": {},
   "outputs": [
    {
     "name": "stdout",
     "output_type": "stream",
     "text": [
      "Epoch 1/20\n",
      "WARNING:tensorflow:AutoGraph could not transform <function Model.make_train_function.<locals>.train_function at 0x000001CDB0608C18> and will run it as-is.\n",
      "Please report this to the TensorFlow team. When filing the bug, set the verbosity to 10 (on Linux, `export AUTOGRAPH_VERBOSITY=10`) and attach the full output.\n",
      "Cause: Bad argument number for Name: 4, expecting 3\n",
      "To silence this warning, decorate the function with @tf.autograph.experimental.do_not_convert\n",
      "WARNING: AutoGraph could not transform <function Model.make_train_function.<locals>.train_function at 0x000001CDB0608C18> and will run it as-is.\n",
      "Please report this to the TensorFlow team. When filing the bug, set the verbosity to 10 (on Linux, `export AUTOGRAPH_VERBOSITY=10`) and attach the full output.\n",
      "Cause: Bad argument number for Name: 4, expecting 3\n",
      "To silence this warning, decorate the function with @tf.autograph.experimental.do_not_convert\n",
      "972/981 [============================>.] - ETA: 0s - loss: 1.2707 - accuracy: 0.7388WARNING:tensorflow:AutoGraph could not transform <function Model.make_test_function.<locals>.test_function at 0x000001CDB9770318> and will run it as-is.\n",
      "Please report this to the TensorFlow team. When filing the bug, set the verbosity to 10 (on Linux, `export AUTOGRAPH_VERBOSITY=10`) and attach the full output.\n",
      "Cause: Bad argument number for Name: 4, expecting 3\n",
      "To silence this warning, decorate the function with @tf.autograph.experimental.do_not_convert\n",
      "WARNING: AutoGraph could not transform <function Model.make_test_function.<locals>.test_function at 0x000001CDB9770318> and will run it as-is.\n",
      "Please report this to the TensorFlow team. When filing the bug, set the verbosity to 10 (on Linux, `export AUTOGRAPH_VERBOSITY=10`) and attach the full output.\n",
      "Cause: Bad argument number for Name: 4, expecting 3\n",
      "To silence this warning, decorate the function with @tf.autograph.experimental.do_not_convert\n",
      "981/981 [==============================] - 6s 6ms/step - loss: 1.2630 - accuracy: 0.7400 - val_loss: 0.4184 - val_accuracy: 0.8929\n",
      "Epoch 2/20\n",
      "981/981 [==============================] - 6s 6ms/step - loss: 0.2430 - accuracy: 0.9401 - val_loss: 0.2201 - val_accuracy: 0.9438\n",
      "Epoch 3/20\n",
      "981/981 [==============================] - 6s 6ms/step - loss: 0.1767 - accuracy: 0.9563 - val_loss: 0.2074 - val_accuracy: 0.9575\n",
      "Epoch 4/20\n",
      "981/981 [==============================] - 6s 6ms/step - loss: 0.1435 - accuracy: 0.9630 - val_loss: 0.1861 - val_accuracy: 0.9573\n",
      "Epoch 5/20\n",
      "981/981 [==============================] - 6s 6ms/step - loss: 0.1067 - accuracy: 0.9729 - val_loss: 0.1513 - val_accuracy: 0.9660\n",
      "Epoch 6/20\n",
      "981/981 [==============================] - 6s 6ms/step - loss: 0.1029 - accuracy: 0.9747 - val_loss: 0.1231 - val_accuracy: 0.9719\n",
      "Epoch 7/20\n",
      "981/981 [==============================] - 6s 6ms/step - loss: 0.1086 - accuracy: 0.9729 - val_loss: 0.1505 - val_accuracy: 0.9690\n",
      "Epoch 8/20\n",
      "981/981 [==============================] - 6s 6ms/step - loss: 0.0956 - accuracy: 0.9778 - val_loss: 0.1626 - val_accuracy: 0.9668\n",
      "Epoch 9/20\n",
      "981/981 [==============================] - 6s 6ms/step - loss: 0.0792 - accuracy: 0.9818 - val_loss: 0.1224 - val_accuracy: 0.9790\n",
      "Epoch 10/20\n",
      "981/981 [==============================] - 6s 6ms/step - loss: 0.0919 - accuracy: 0.9797 - val_loss: 0.1464 - val_accuracy: 0.9749\n",
      "Epoch 11/20\n",
      "981/981 [==============================] - 6s 6ms/step - loss: 0.0872 - accuracy: 0.9806 - val_loss: 0.1997 - val_accuracy: 0.9573\n",
      "Epoch 12/20\n",
      "981/981 [==============================] - 6s 6ms/step - loss: 0.0736 - accuracy: 0.9843 - val_loss: 0.2296 - val_accuracy: 0.9699\n",
      "Epoch 13/20\n",
      "981/981 [==============================] - 6s 6ms/step - loss: 0.0702 - accuracy: 0.9852 - val_loss: 0.1637 - val_accuracy: 0.9777\n",
      "Epoch 14/20\n",
      "981/981 [==============================] - 6s 6ms/step - loss: 0.0983 - accuracy: 0.9820 - val_loss: 0.1461 - val_accuracy: 0.9790\n",
      "Epoch 15/20\n",
      "981/981 [==============================] - 6s 6ms/step - loss: 0.0644 - accuracy: 0.9871 - val_loss: 0.1763 - val_accuracy: 0.9773\n",
      "Epoch 16/20\n",
      "981/981 [==============================] - 6s 6ms/step - loss: 0.0874 - accuracy: 0.9853 - val_loss: 0.2084 - val_accuracy: 0.9730\n",
      "Epoch 17/20\n",
      "981/981 [==============================] - 6s 6ms/step - loss: 0.0632 - accuracy: 0.9881 - val_loss: 0.1440 - val_accuracy: 0.9842\n",
      "Epoch 18/20\n",
      "981/981 [==============================] - 6s 6ms/step - loss: 0.0841 - accuracy: 0.9852 - val_loss: 0.1832 - val_accuracy: 0.9791\n",
      "Epoch 19/20\n",
      "981/981 [==============================] - 6s 6ms/step - loss: 0.0656 - accuracy: 0.9886 - val_loss: 0.1579 - val_accuracy: 0.9796\n",
      "Epoch 20/20\n",
      "981/981 [==============================] - 6s 6ms/step - loss: 0.0725 - accuracy: 0.9877 - val_loss: 0.2214 - val_accuracy: 0.9718\n"
     ]
    }
   ],
   "source": [
    "#Compilation and training of the model\n",
    "model.compile(loss='categorical_crossentropy', optimizer='adam', metrics=['accuracy'])\n",
    "history = model.fit(X_train, y_train, batch_size=32, epochs=20, validation_data=(X_test, y_test))"
   ]
  },
  {
   "cell_type": "code",
   "execution_count": 22,
   "metadata": {},
   "outputs": [
    {
     "data": {
      "image/png": "[encoded data removed]",
      "text/plain": [
       "<Figure size 432x288 with 1 Axes>"
      ]
     },
     "metadata": {
      "needs_background": "light"
     },
     "output_type": "display_data"
    }
   ],
   "source": [
    "#Plotting graphs for accuracy \n",
    "plt.figure(0)\n",
    "plt.plot(history.history['accuracy'], label='training accuracy')\n",
    "plt.plot(history.history['val_accuracy'], label='val accuracy')\n",
    "plt.title('Accuracy')\n",
    "plt.xlabel('epochs')\n",
    "plt.ylabel('accuracy')\n",
    "plt.legend()\n",
    "plt.show()"
   ]
  },
  {
   "cell_type": "code",
   "execution_count": 23,
   "metadata": {},
   "outputs": [
    {
     "name": "stdout",
     "output_type": "stream",
     "text": [
      "WARNING:tensorflow:AutoGraph could not transform <function Model.make_predict_function.<locals>.predict_function at 0x000001CDBEED33A8> and will run it as-is.\n",
      "Please report this to the TensorFlow team. When filing the bug, set the verbosity to 10 (on Linux, `export AUTOGRAPH_VERBOSITY=10`) and attach the full output.\n",
      "Cause: Bad argument number for Name: 4, expecting 3\n",
      "To silence this warning, decorate the function with @tf.autograph.experimental.do_not_convert\n",
      "WARNING: AutoGraph could not transform <function Model.make_predict_function.<locals>.predict_function at 0x000001CDBEED33A8> and will run it as-is.\n",
      "Please report this to the TensorFlow team. When filing the bug, set the verbosity to 10 (on Linux, `export AUTOGRAPH_VERBOSITY=10`) and attach the full output.\n",
      "Cause: Bad argument number for Name: 4, expecting 3\n",
      "To silence this warning, decorate the function with @tf.autograph.experimental.do_not_convert\n"
     ]
    }
   ],
   "source": [
    "#Testing accuracy on test dataset\n",
    "from sklearn.metrics import accuracy_score\n",
    "y_test = pd.read_csv('Test.csv')\n",
    "labels = y_test[\"ClassId\"].values\n",
    "imgs = y_test[\"Path\"].values\n",
    "data=[]\n",
    "for img in imgs:\n",
    "    image = Image.open(img)\n",
    "    image = image.resize((30,30))\n",
    "    data.append(np.array(image))\n",
    "X_test=np.array(data)\n",
    "pred = model.predict_classes(X_test)"
   ]
  },
  {
   "cell_type": "code",
   "execution_count": 24,
   "metadata": {},
   "outputs": [
    {
     "name": "stdout",
     "output_type": "stream",
     "text": [
      "0.9208234362628662\n"
     ]
    }
   ],
   "source": [
    "#Accuracy with the test data\n",
    "from sklearn.metrics import accuracy_score\n",
    "print(accuracy_score(labels, pred))"
   ]
  },
  {
   "cell_type": "code",
   "execution_count": 25,
   "metadata": {},
   "outputs": [],
   "source": [
    "model.save('traffic.h5')"
   ]
  }
 ],
 "metadata": {
  "kernelspec": {
   "display_name": "Python 3.7 (tensorflow)",
   "language": "python",
   "name": "tensorflow"
  },
  "language_info": {
   "codemirror_mode": {
    "name": "ipython",
    "version": 3
   },
   "file_extension": ".py",
   "mimetype": "text/x-python",
   "name": "python",
   "nbconvert_exporter": "python",
   "pygments_lexer": "ipython3",
   "version": "3.7.7"
  }
 },
 "nbformat": 4,
 "nbformat_minor": 4
}
